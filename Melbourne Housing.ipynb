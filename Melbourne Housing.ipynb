{
 "cells": [
  {
   "cell_type": "code",
   "execution_count": 1,
   "id": "69340ebb-6edc-4528-85df-42d045fcd790",
   "metadata": {},
   "outputs": [],
   "source": [
    "import numpy as np\n",
    "import pandas as pd\n",
    "import seaborn as sns\n",
    "import matplotlib.pyplot as plt"
   ]
  },
  {
   "cell_type": "code",
   "execution_count": 2,
   "id": "5abf1208-4fa2-4624-91f9-070e31c6acf7",
   "metadata": {},
   "outputs": [
    {
     "name": "stdout",
     "output_type": "stream",
     "text": [
      "Dataset URL: https://www.kaggle.com/datasets/dansbecker/melbourne-housing-snapshot\n",
      "License(s): CC-BY-NC-SA-4.0\n",
      "melbourne-housing-snapshot.zip: Skipping, found more recently modified local copy (use --force to force download)\n"
     ]
    }
   ],
   "source": [
    "!kaggle datasets download -d dansbecker/melbourne-housing-snapshot"
   ]
  },
  {
   "cell_type": "code",
   "execution_count": 3,
   "id": "e57bcc9f-ea51-467a-aded-42841515cc98",
   "metadata": {},
   "outputs": [],
   "source": [
    "import zipfile\n",
    "\n",
    "with zipfile.ZipFile(\"melbourne-housing-snapshot.zip\", \"r\") as zip_ref:\n",
    "    zip_ref.extractall(\"melbourne_data\")\n"
   ]
  },
  {
   "cell_type": "code",
   "execution_count": 2,
   "id": "35b2e968-f0e1-4f4b-989e-228acb30180c",
   "metadata": {},
   "outputs": [
    {
     "data": {
      "text/html": [
       "<div>\n",
       "<style scoped>\n",
       "    .dataframe tbody tr th:only-of-type {\n",
       "        vertical-align: middle;\n",
       "    }\n",
       "\n",
       "    .dataframe tbody tr th {\n",
       "        vertical-align: top;\n",
       "    }\n",
       "\n",
       "    .dataframe thead th {\n",
       "        text-align: right;\n",
       "    }\n",
       "</style>\n",
       "<table border=\"1\" class=\"dataframe\">\n",
       "  <thead>\n",
       "    <tr style=\"text-align: right;\">\n",
       "      <th></th>\n",
       "      <th>Suburb</th>\n",
       "      <th>Address</th>\n",
       "      <th>Rooms</th>\n",
       "      <th>Type</th>\n",
       "      <th>Price</th>\n",
       "      <th>Method</th>\n",
       "      <th>SellerG</th>\n",
       "      <th>Date</th>\n",
       "      <th>Distance</th>\n",
       "      <th>Postcode</th>\n",
       "      <th>...</th>\n",
       "      <th>Bathroom</th>\n",
       "      <th>Car</th>\n",
       "      <th>Landsize</th>\n",
       "      <th>BuildingArea</th>\n",
       "      <th>YearBuilt</th>\n",
       "      <th>CouncilArea</th>\n",
       "      <th>Lattitude</th>\n",
       "      <th>Longtitude</th>\n",
       "      <th>Regionname</th>\n",
       "      <th>Propertycount</th>\n",
       "    </tr>\n",
       "  </thead>\n",
       "  <tbody>\n",
       "    <tr>\n",
       "      <th>0</th>\n",
       "      <td>Abbotsford</td>\n",
       "      <td>85 Turner St</td>\n",
       "      <td>2</td>\n",
       "      <td>h</td>\n",
       "      <td>1480000.0</td>\n",
       "      <td>S</td>\n",
       "      <td>Biggin</td>\n",
       "      <td>3/12/2016</td>\n",
       "      <td>2.5</td>\n",
       "      <td>3067.0</td>\n",
       "      <td>...</td>\n",
       "      <td>1.0</td>\n",
       "      <td>1.0</td>\n",
       "      <td>202.0</td>\n",
       "      <td>NaN</td>\n",
       "      <td>NaN</td>\n",
       "      <td>Yarra</td>\n",
       "      <td>-37.7996</td>\n",
       "      <td>144.9984</td>\n",
       "      <td>Northern Metropolitan</td>\n",
       "      <td>4019.0</td>\n",
       "    </tr>\n",
       "    <tr>\n",
       "      <th>1</th>\n",
       "      <td>Abbotsford</td>\n",
       "      <td>25 Bloomburg St</td>\n",
       "      <td>2</td>\n",
       "      <td>h</td>\n",
       "      <td>1035000.0</td>\n",
       "      <td>S</td>\n",
       "      <td>Biggin</td>\n",
       "      <td>4/02/2016</td>\n",
       "      <td>2.5</td>\n",
       "      <td>3067.0</td>\n",
       "      <td>...</td>\n",
       "      <td>1.0</td>\n",
       "      <td>0.0</td>\n",
       "      <td>156.0</td>\n",
       "      <td>79.0</td>\n",
       "      <td>1900.0</td>\n",
       "      <td>Yarra</td>\n",
       "      <td>-37.8079</td>\n",
       "      <td>144.9934</td>\n",
       "      <td>Northern Metropolitan</td>\n",
       "      <td>4019.0</td>\n",
       "    </tr>\n",
       "    <tr>\n",
       "      <th>2</th>\n",
       "      <td>Abbotsford</td>\n",
       "      <td>5 Charles St</td>\n",
       "      <td>3</td>\n",
       "      <td>h</td>\n",
       "      <td>1465000.0</td>\n",
       "      <td>SP</td>\n",
       "      <td>Biggin</td>\n",
       "      <td>4/03/2017</td>\n",
       "      <td>2.5</td>\n",
       "      <td>3067.0</td>\n",
       "      <td>...</td>\n",
       "      <td>2.0</td>\n",
       "      <td>0.0</td>\n",
       "      <td>134.0</td>\n",
       "      <td>150.0</td>\n",
       "      <td>1900.0</td>\n",
       "      <td>Yarra</td>\n",
       "      <td>-37.8093</td>\n",
       "      <td>144.9944</td>\n",
       "      <td>Northern Metropolitan</td>\n",
       "      <td>4019.0</td>\n",
       "    </tr>\n",
       "    <tr>\n",
       "      <th>3</th>\n",
       "      <td>Abbotsford</td>\n",
       "      <td>40 Federation La</td>\n",
       "      <td>3</td>\n",
       "      <td>h</td>\n",
       "      <td>850000.0</td>\n",
       "      <td>PI</td>\n",
       "      <td>Biggin</td>\n",
       "      <td>4/03/2017</td>\n",
       "      <td>2.5</td>\n",
       "      <td>3067.0</td>\n",
       "      <td>...</td>\n",
       "      <td>2.0</td>\n",
       "      <td>1.0</td>\n",
       "      <td>94.0</td>\n",
       "      <td>NaN</td>\n",
       "      <td>NaN</td>\n",
       "      <td>Yarra</td>\n",
       "      <td>-37.7969</td>\n",
       "      <td>144.9969</td>\n",
       "      <td>Northern Metropolitan</td>\n",
       "      <td>4019.0</td>\n",
       "    </tr>\n",
       "    <tr>\n",
       "      <th>4</th>\n",
       "      <td>Abbotsford</td>\n",
       "      <td>55a Park St</td>\n",
       "      <td>4</td>\n",
       "      <td>h</td>\n",
       "      <td>1600000.0</td>\n",
       "      <td>VB</td>\n",
       "      <td>Nelson</td>\n",
       "      <td>4/06/2016</td>\n",
       "      <td>2.5</td>\n",
       "      <td>3067.0</td>\n",
       "      <td>...</td>\n",
       "      <td>1.0</td>\n",
       "      <td>2.0</td>\n",
       "      <td>120.0</td>\n",
       "      <td>142.0</td>\n",
       "      <td>2014.0</td>\n",
       "      <td>Yarra</td>\n",
       "      <td>-37.8072</td>\n",
       "      <td>144.9941</td>\n",
       "      <td>Northern Metropolitan</td>\n",
       "      <td>4019.0</td>\n",
       "    </tr>\n",
       "  </tbody>\n",
       "</table>\n",
       "<p>5 rows × 21 columns</p>\n",
       "</div>"
      ],
      "text/plain": [
       "       Suburb           Address  Rooms Type      Price Method SellerG  \\\n",
       "0  Abbotsford      85 Turner St      2    h  1480000.0      S  Biggin   \n",
       "1  Abbotsford   25 Bloomburg St      2    h  1035000.0      S  Biggin   \n",
       "2  Abbotsford      5 Charles St      3    h  1465000.0     SP  Biggin   \n",
       "3  Abbotsford  40 Federation La      3    h   850000.0     PI  Biggin   \n",
       "4  Abbotsford       55a Park St      4    h  1600000.0     VB  Nelson   \n",
       "\n",
       "        Date  Distance  Postcode  ...  Bathroom  Car  Landsize  BuildingArea  \\\n",
       "0  3/12/2016       2.5    3067.0  ...       1.0  1.0     202.0           NaN   \n",
       "1  4/02/2016       2.5    3067.0  ...       1.0  0.0     156.0          79.0   \n",
       "2  4/03/2017       2.5    3067.0  ...       2.0  0.0     134.0         150.0   \n",
       "3  4/03/2017       2.5    3067.0  ...       2.0  1.0      94.0           NaN   \n",
       "4  4/06/2016       2.5    3067.0  ...       1.0  2.0     120.0         142.0   \n",
       "\n",
       "   YearBuilt  CouncilArea Lattitude  Longtitude             Regionname  \\\n",
       "0        NaN        Yarra  -37.7996    144.9984  Northern Metropolitan   \n",
       "1     1900.0        Yarra  -37.8079    144.9934  Northern Metropolitan   \n",
       "2     1900.0        Yarra  -37.8093    144.9944  Northern Metropolitan   \n",
       "3        NaN        Yarra  -37.7969    144.9969  Northern Metropolitan   \n",
       "4     2014.0        Yarra  -37.8072    144.9941  Northern Metropolitan   \n",
       "\n",
       "  Propertycount  \n",
       "0        4019.0  \n",
       "1        4019.0  \n",
       "2        4019.0  \n",
       "3        4019.0  \n",
       "4        4019.0  \n",
       "\n",
       "[5 rows x 21 columns]"
      ]
     },
     "execution_count": 2,
     "metadata": {},
     "output_type": "execute_result"
    }
   ],
   "source": [
    "df = pd.read_csv(\"melbourne_data/melb_data.csv\")\n",
    "df.head()"
   ]
  },
  {
   "cell_type": "code",
   "execution_count": 4,
   "id": "8227038b-67f0-4858-bb8d-5c9a7263a5fc",
   "metadata": {},
   "outputs": [
    {
     "name": "stdout",
     "output_type": "stream",
     "text": [
      "<class 'pandas.core.frame.DataFrame'>\n",
      "RangeIndex: 13580 entries, 0 to 13579\n",
      "Data columns (total 21 columns):\n",
      " #   Column         Non-Null Count  Dtype  \n",
      "---  ------         --------------  -----  \n",
      " 0   Suburb         13580 non-null  object \n",
      " 1   Address        13580 non-null  object \n",
      " 2   Rooms          13580 non-null  int64  \n",
      " 3   Type           13580 non-null  object \n",
      " 4   Price          13580 non-null  float64\n",
      " 5   Method         13580 non-null  object \n",
      " 6   SellerG        13580 non-null  object \n",
      " 7   Date           13580 non-null  object \n",
      " 8   Distance       13580 non-null  float64\n",
      " 9   Postcode       13580 non-null  float64\n",
      " 10  Bedroom2       13580 non-null  float64\n",
      " 11  Bathroom       13580 non-null  float64\n",
      " 12  Car            13518 non-null  float64\n",
      " 13  Landsize       13580 non-null  float64\n",
      " 14  BuildingArea   7130 non-null   float64\n",
      " 15  YearBuilt      8205 non-null   float64\n",
      " 16  CouncilArea    12211 non-null  object \n",
      " 17  Lattitude      13580 non-null  float64\n",
      " 18  Longtitude     13580 non-null  float64\n",
      " 19  Regionname     13580 non-null  object \n",
      " 20  Propertycount  13580 non-null  float64\n",
      "dtypes: float64(12), int64(1), object(8)\n",
      "memory usage: 2.2+ MB\n"
     ]
    }
   ],
   "source": [
    "df.info()"
   ]
  },
  {
   "cell_type": "code",
   "execution_count": 6,
   "id": "2a1fe0c5-a6d7-4033-b066-6d2658fd0cc5",
   "metadata": {},
   "outputs": [
    {
     "data": {
      "text/plain": [
       "13378"
      ]
     },
     "execution_count": 6,
     "metadata": {},
     "output_type": "execute_result"
    }
   ],
   "source": [
    "df['Address'].nunique()"
   ]
  },
  {
   "cell_type": "code",
   "execution_count": 7,
   "id": "be53d086-c59b-46ee-833d-0261c7483942",
   "metadata": {},
   "outputs": [
    {
     "data": {
      "text/plain": [
       "314"
      ]
     },
     "execution_count": 7,
     "metadata": {},
     "output_type": "execute_result"
    }
   ],
   "source": [
    "df['Suburb'].nunique()"
   ]
  },
  {
   "cell_type": "code",
   "execution_count": 12,
   "id": "3e19f3fa-eb30-47d8-baaf-4928f175ccd8",
   "metadata": {},
   "outputs": [
    {
     "data": {
      "text/plain": [
       "Suburb\n",
       "Abbotsford      1.060366e+06\n",
       "Aberfeldie      1.277455e+06\n",
       "Airport West    7.566567e+05\n",
       "Albanvale       5.370833e+05\n",
       "Albert Park     1.941355e+06\n",
       "                    ...     \n",
       "Wonga Park      9.000000e+05\n",
       "Wyndham Vale    4.832500e+05\n",
       "Yallambie       8.396875e+05\n",
       "Yarra Glen      6.200000e+05\n",
       "Yarraville      9.886155e+05\n",
       "Name: Price, Length: 314, dtype: float64"
      ]
     },
     "execution_count": 12,
     "metadata": {},
     "output_type": "execute_result"
    }
   ],
   "source": [
    "df.groupby('Suburb')['Price'].mean()"
   ]
  },
  {
   "cell_type": "code",
   "execution_count": 3,
   "id": "9433d7e7-e249-43e0-825f-e89097c16db6",
   "metadata": {},
   "outputs": [],
   "source": [
    "suburb_price_mean = df.groupby('Suburb')['Price'].mean()\n",
    "suburb_price_quartiles = pd.qcut(suburb_price_mean, q=4, labels=['Sub_A', 'Sub_B', 'Sub_C', 'Sub_D'])"
   ]
  },
  {
   "cell_type": "code",
   "execution_count": 4,
   "id": "61b8243b-5d75-4d43-9d13-83bb6e965523",
   "metadata": {},
   "outputs": [],
   "source": [
    "df['Price_Quartile'] = df['Suburb'].map(suburb_price_quartiles)\n",
    "quartile_dummies = pd.get_dummies(df['Price_Quartile'], prefix='Quartile').astype(int)"
   ]
  },
  {
   "cell_type": "code",
   "execution_count": 5,
   "id": "8f70e9de-23df-43df-a599-f75febe4b1f3",
   "metadata": {},
   "outputs": [],
   "source": [
    "df = pd.concat([df, quartile_dummies], axis=1)"
   ]
  },
  {
   "cell_type": "code",
   "execution_count": 11,
   "id": "36238071-acfe-441a-97f7-6da262db6106",
   "metadata": {},
   "outputs": [
    {
     "name": "stderr",
     "output_type": "stream",
     "text": [
      "C:\\Users\\Taif Al Ghazali\\AppData\\Local\\Temp\\ipykernel_10396\\933494986.py:1: FutureWarning: The default of observed=False is deprecated and will be changed to True in a future version of pandas. Pass observed=False to retain current behavior or observed=True to adopt the future default and silence this warning.\n",
      "  (df.groupby('Price_Quartile')['Price'].mean()).plot(kind='bar')\n"
     ]
    },
    {
     "data": {
      "text/plain": [
       "<Axes: xlabel='Price_Quartile'>"
      ]
     },
     "execution_count": 11,
     "metadata": {},
     "output_type": "execute_result"
    },
    {
     "data": {
      "image/png": "[encoded data removed]",
      "text/plain": [
       "<Figure size 640x480 with 1 Axes>"
      ]
     },
     "metadata": {},
     "output_type": "display_data"
    }
   ],
   "source": [
    "(df.groupby('Price_Quartile')['Price'].mean()).plot(kind='bar')"
   ]
  },
  {
   "cell_type": "code",
   "execution_count": 16,
   "id": "e4761fa3-2bcf-4607-b58b-b5c9a1c751f6",
   "metadata": {},
   "outputs": [],
   "source": [
    "seller_price_mean= df.groupby('SellerG')['Price'].mean()\n",
    "seller_price_quartiles = pd.qcut(seller_price_mean, q=4, labels=['A', 'B', 'C', 'D'])"
   ]
  },
  {
   "cell_type": "code",
   "execution_count": 17,
   "id": "06821ffc-3309-4ec0-8f03-dc5070167445",
   "metadata": {},
   "outputs": [],
   "source": [
    "df['Seller_Quartile'] = df['SellerG'].map(seller_price_quartiles)"
   ]
  },
  {
   "cell_type": "code",
   "execution_count": 19,
   "id": "09ff790e-c59a-45c6-979a-b68953d47b88",
   "metadata": {},
   "outputs": [
    {
     "name": "stderr",
     "output_type": "stream",
     "text": [
      "C:\\Users\\Taif Al Ghazali\\AppData\\Local\\Temp\\ipykernel_10396\\707254448.py:1: FutureWarning: The default of observed=False is deprecated and will be changed to True in a future version of pandas. Pass observed=False to retain current behavior or observed=True to adopt the future default and silence this warning.\n",
      "  (df.groupby('Seller_Quartile')['Price'].mean())\n"
     ]
    },
    {
     "data": {
      "text/plain": [
       "Seller_Quartile\n",
       "A    5.786193e+05\n",
       "B    7.731443e+05\n",
       "C    9.664080e+05\n",
       "D    1.448765e+06\n",
       "Name: Price, dtype: float64"
      ]
     },
     "execution_count": 19,
     "metadata": {},
     "output_type": "execute_result"
    }
   ],
   "source": [
    "(df.groupby('Seller_Quartile')['Price'].mean())"
   ]
  },
  {
   "cell_type": "code",
   "execution_count": 21,
   "id": "4560ccd3-7bf4-4d98-9f02-fa5afbfa97cd",
   "metadata": {},
   "outputs": [],
   "source": [
    "quartile_dummies = pd.get_dummies(df['Seller_Quartile'], prefix='Quartile').astype(int)"
   ]
  },
  {
   "cell_type": "code",
   "execution_count": 22,
   "id": "0bd86806-ba9e-42dd-8454-2bce5fd48936",
   "metadata": {},
   "outputs": [],
   "source": [
    "df = pd.concat([df, quartile_dummies], axis=1)"
   ]
  },
  {
   "cell_type": "code",
   "execution_count": 23,
   "id": "6c05ac84-43c6-4681-816e-4dd7567894b6",
   "metadata": {},
   "outputs": [],
   "source": [
    "df.drop(['Address', 'Suburb', 'SellerG'], axis =1, inplace= True)"
   ]
  },
  {
   "cell_type": "code",
   "execution_count": 25,
   "id": "f2bd538e-4b1e-43c0-9fe1-e3e0b43fdd3d",
   "metadata": {},
   "outputs": [],
   "source": [
    "df.drop(['Price_Quartile', 'Seller_Quartile'], axis=1, inplace= True)"
   ]
  },
  {
   "cell_type": "markdown",
   "id": "fd922f57-809b-4f4e-a599-79eaa4cce729",
   "metadata": {},
   "source": [
    "df.info()"
   ]
  },
  {
   "cell_type": "markdown",
   "id": "1c22bac2-22dd-430f-9c7c-7a4050bd20b9",
   "metadata": {},
   "source": [
    "# **Geographic Plots**"
   ]
  },
  {
   "cell_type": "code",
   "execution_count": 25,
   "id": "52b18b86-caa7-4b58-8ddf-84b23043a3cc",
   "metadata": {},
   "outputs": [
    {
     "data": {
      "text/plain": [
       "<matplotlib.legend.Legend at 0x1f5752cee40>"
      ]
     },
     "execution_count": 25,
     "metadata": {},
     "output_type": "execute_result"
    },
    {
     "data": {
      "image/png": "[encoded data removed]",
      "text/plain": [
       "<Figure size 640x480 with 1 Axes>"
      ]
     },
     "metadata": {},
     "output_type": "display_data"
    }
   ],
   "source": [
    "sns.scatterplot(df,x=\"Longtitude\", y=\"Lattitude\", alpha= 0.4, hue=\"Regionname\")\n",
    "plt.legend( bbox_to_anchor=(1.1, 0.5, 0.5, 0.5))"
   ]
  },
  {
   "cell_type": "code",
   "execution_count": 28,
   "id": "1e0bbf63-59e1-498b-860f-b537bad92933",
   "metadata": {},
   "outputs": [
    {
     "data": {
      "text/plain": [
       "Text(0.5, 1.0, 'Melbourne Housing Prices by Location')"
      ]
     },
     "execution_count": 28,
     "metadata": {},
     "output_type": "execute_result"
    },
    {
     "data": {
      "image/png": "[encoded data removed]",
      "text/plain": [
       "<Figure size 800x500 with 2 Axes>"
      ]
     },
     "metadata": {},
     "output_type": "display_data"
    }
   ],
   "source": [
    "plt.figure(figsize=(8,5))\n",
    "scatter = plt.scatter(data=df, x='Longtitude', y='Lattitude', \n",
    "                      c=df['Price'], cmap='viridis', alpha=0.3)\n",
    "plt.colorbar(scatter, label='Price')\n",
    "plt.xlabel('Longitude')\n",
    "plt.ylabel('Latitude')\n",
    "plt.title('Melbourne Housing Prices by Location')"
   ]
  },
  {
   "cell_type": "code",
   "execution_count": 29,
   "id": "bce5768d-2478-45e1-a9b9-8c28dadb55cf",
   "metadata": {},
   "outputs": [
    {
     "data": {
      "text/plain": [
       "<Axes: xlabel='Longtitude', ylabel='Lattitude'>"
      ]
     },
     "execution_count": 29,
     "metadata": {},
     "output_type": "execute_result"
    },
    {
     "data": {
      "image/png": "[encoded data removed]",
      "text/plain": [
       "<Figure size 640x480 with 1 Axes>"
      ]
     },
     "metadata": {},
     "output_type": "display_data"
    }
   ],
   "source": [
    "sns.kdeplot(data=df, x='Longtitude', y='Lattitude', cmap=\"magma\", fill=True, alpha=0.6)\n"
   ]
  },
  {
   "cell_type": "code",
   "execution_count": 30,
   "id": "615598db-f854-4797-95c0-0842915e6d8d",
   "metadata": {},
   "outputs": [],
   "source": [
    "df['Year'] = pd.to_datetime(df['Date'], dayfirst=True).dt.year"
   ]
  },
  {
   "cell_type": "code",
   "execution_count": 31,
   "id": "4e302f26-2374-4b84-83d2-d4471bd61e61",
   "metadata": {},
   "outputs": [
    {
     "data": {
      "text/plain": [
       "5"
      ]
     },
     "execution_count": 31,
     "metadata": {},
     "output_type": "execute_result"
    }
   ],
   "source": [
    "df['Method'].nunique()"
   ]
  },
  {
   "cell_type": "code",
   "execution_count": 33,
   "id": "04c6fdd6-c96b-4ca2-b5c8-97eb1b900a99",
   "metadata": {},
   "outputs": [
    {
     "data": {
      "text/plain": [
       "Method\n",
       "S     9022\n",
       "SP    1703\n",
       "PI    1564\n",
       "VB    1199\n",
       "SA      92\n",
       "Name: count, dtype: int64"
      ]
     },
     "execution_count": 33,
     "metadata": {},
     "output_type": "execute_result"
    }
   ],
   "source": [
    "df['Method'].value_counts()"
   ]
  },
  {
   "cell_type": "code",
   "execution_count": 38,
   "id": "4adc9bf3-4031-447a-9e9a-3d2ae052f1df",
   "metadata": {},
   "outputs": [
    {
     "data": {
      "text/plain": [
       "<Axes: xlabel='Method'>"
      ]
     },
     "execution_count": 38,
     "metadata": {},
     "output_type": "execute_result"
    },
    {
     "data": {
      "image/png": "[encoded data removed]",
      "text/plain": [
       "<Figure size 640x480 with 1 Axes>"
      ]
     },
     "metadata": {},
     "output_type": "display_data"
    }
   ],
   "source": [
    "df.groupby('Method')['Price'].mean().plot(kind='bar')"
   ]
  },
  {
   "cell_type": "code",
   "execution_count": 32,
   "id": "6bbe8e2e-58ac-4e59-a431-c28e6c19b7e3",
   "metadata": {},
   "outputs": [
    {
     "data": {
      "text/plain": [
       "3"
      ]
     },
     "execution_count": 32,
     "metadata": {},
     "output_type": "execute_result"
    }
   ],
   "source": [
    "df['Type'].nunique()"
   ]
  },
  {
   "cell_type": "code",
   "execution_count": 34,
   "id": "049a02e9-a088-4c7b-b042-3b4a206cb42e",
   "metadata": {},
   "outputs": [
    {
     "data": {
      "text/plain": [
       "Type\n",
       "h    9449\n",
       "u    3017\n",
       "t    1114\n",
       "Name: count, dtype: int64"
      ]
     },
     "execution_count": 34,
     "metadata": {},
     "output_type": "execute_result"
    }
   ],
   "source": [
    "df['Type'].value_counts()"
   ]
  },
  {
   "cell_type": "code",
   "execution_count": 40,
   "id": "c8f3fb1e-0e60-4969-ad28-95de62711579",
   "metadata": {},
   "outputs": [
    {
     "data": {
      "text/plain": [
       "<Axes: xlabel='Type'>"
      ]
     },
     "execution_count": 40,
     "metadata": {},
     "output_type": "execute_result"
    },
    {
     "data": {
      "image/png": "[encoded data removed]",
      "text/plain": [
       "<Figure size 640x480 with 1 Axes>"
      ]
     },
     "metadata": {},
     "output_type": "display_data"
    }
   ],
   "source": [
    "df.groupby('Type')['Price'].mean().plot(kind='bar')"
   ]
  },
  {
   "cell_type": "markdown",
   "id": "f53e2c11-a935-4fdb-a6b1-dc3ef5ac3b0f",
   "metadata": {},
   "source": [
    "### Seems like we can drop the Method feature, simply adds noise"
   ]
  },
  {
   "cell_type": "code",
   "execution_count": 42,
   "id": "ad16e85f-ace2-4100-ad37-f73176d65997",
   "metadata": {},
   "outputs": [],
   "source": [
    "type_dums = pd.get_dummies(df['Type']).astype(int)"
   ]
  },
  {
   "cell_type": "code",
   "execution_count": 43,
   "id": "058f930f-85a3-4dc9-9de8-a855fba1bf61",
   "metadata": {},
   "outputs": [
    {
     "data": {
      "text/html": [
       "<div>\n",
       "<style scoped>\n",
       "    .dataframe tbody tr th:only-of-type {\n",
       "        vertical-align: middle;\n",
       "    }\n",
       "\n",
       "    .dataframe tbody tr th {\n",
       "        vertical-align: top;\n",
       "    }\n",
       "\n",
       "    .dataframe thead th {\n",
       "        text-align: right;\n",
       "    }\n",
       "</style>\n",
       "<table border=\"1\" class=\"dataframe\">\n",
       "  <thead>\n",
       "    <tr style=\"text-align: right;\">\n",
       "      <th></th>\n",
       "      <th>h</th>\n",
       "      <th>t</th>\n",
       "      <th>u</th>\n",
       "    </tr>\n",
       "  </thead>\n",
       "  <tbody>\n",
       "    <tr>\n",
       "      <th>0</th>\n",
       "      <td>1</td>\n",
       "      <td>0</td>\n",
       "      <td>0</td>\n",
       "    </tr>\n",
       "    <tr>\n",
       "      <th>1</th>\n",
       "      <td>1</td>\n",
       "      <td>0</td>\n",
       "      <td>0</td>\n",
       "    </tr>\n",
       "    <tr>\n",
       "      <th>2</th>\n",
       "      <td>1</td>\n",
       "      <td>0</td>\n",
       "      <td>0</td>\n",
       "    </tr>\n",
       "    <tr>\n",
       "      <th>3</th>\n",
       "      <td>1</td>\n",
       "      <td>0</td>\n",
       "      <td>0</td>\n",
       "    </tr>\n",
       "    <tr>\n",
       "      <th>4</th>\n",
       "      <td>1</td>\n",
       "      <td>0</td>\n",
       "      <td>0</td>\n",
       "    </tr>\n",
       "    <tr>\n",
       "      <th>...</th>\n",
       "      <td>...</td>\n",
       "      <td>...</td>\n",
       "      <td>...</td>\n",
       "    </tr>\n",
       "    <tr>\n",
       "      <th>13575</th>\n",
       "      <td>1</td>\n",
       "      <td>0</td>\n",
       "      <td>0</td>\n",
       "    </tr>\n",
       "    <tr>\n",
       "      <th>13576</th>\n",
       "      <td>1</td>\n",
       "      <td>0</td>\n",
       "      <td>0</td>\n",
       "    </tr>\n",
       "    <tr>\n",
       "      <th>13577</th>\n",
       "      <td>1</td>\n",
       "      <td>0</td>\n",
       "      <td>0</td>\n",
       "    </tr>\n",
       "    <tr>\n",
       "      <th>13578</th>\n",
       "      <td>1</td>\n",
       "      <td>0</td>\n",
       "      <td>0</td>\n",
       "    </tr>\n",
       "    <tr>\n",
       "      <th>13579</th>\n",
       "      <td>1</td>\n",
       "      <td>0</td>\n",
       "      <td>0</td>\n",
       "    </tr>\n",
       "  </tbody>\n",
       "</table>\n",
       "<p>13580 rows × 3 columns</p>\n",
       "</div>"
      ],
      "text/plain": [
       "       h  t  u\n",
       "0      1  0  0\n",
       "1      1  0  0\n",
       "2      1  0  0\n",
       "3      1  0  0\n",
       "4      1  0  0\n",
       "...   .. .. ..\n",
       "13575  1  0  0\n",
       "13576  1  0  0\n",
       "13577  1  0  0\n",
       "13578  1  0  0\n",
       "13579  1  0  0\n",
       "\n",
       "[13580 rows x 3 columns]"
      ]
     },
     "execution_count": 43,
     "metadata": {},
     "output_type": "execute_result"
    }
   ],
   "source": [
    "type_dums"
   ]
  },
  {
   "cell_type": "code",
   "execution_count": 44,
   "id": "0a544dfd-64df-42ce-8c43-7c33f819637f",
   "metadata": {},
   "outputs": [],
   "source": [
    "df = pd.concat([df, type_dums], axis=1)"
   ]
  },
  {
   "cell_type": "code",
   "execution_count": 45,
   "id": "86988524-e455-4801-83cd-329ff10ff481",
   "metadata": {},
   "outputs": [],
   "source": [
    "df.drop(['Date', 'Method', 'Type'], axis=1, inplace= True)"
   ]
  },
  {
   "cell_type": "code",
   "execution_count": 46,
   "id": "5966c9ba-2b22-44ef-9ede-37a720ce27dc",
   "metadata": {},
   "outputs": [
    {
     "name": "stdout",
     "output_type": "stream",
     "text": [
      "<class 'pandas.core.frame.DataFrame'>\n",
      "RangeIndex: 13580 entries, 0 to 13579\n",
      "Data columns (total 27 columns):\n",
      " #   Column          Non-Null Count  Dtype  \n",
      "---  ------          --------------  -----  \n",
      " 0   Rooms           13580 non-null  int64  \n",
      " 1   Price           13580 non-null  float64\n",
      " 2   Distance        13580 non-null  float64\n",
      " 3   Postcode        13580 non-null  float64\n",
      " 4   Bedroom2        13580 non-null  float64\n",
      " 5   Bathroom        13580 non-null  float64\n",
      " 6   Car             13518 non-null  float64\n",
      " 7   Landsize        13580 non-null  float64\n",
      " 8   BuildingArea    7130 non-null   float64\n",
      " 9   YearBuilt       8205 non-null   float64\n",
      " 10  CouncilArea     12211 non-null  object \n",
      " 11  Lattitude       13580 non-null  float64\n",
      " 12  Longtitude      13580 non-null  float64\n",
      " 13  Regionname      13580 non-null  object \n",
      " 14  Propertycount   13580 non-null  float64\n",
      " 15  Quartile_Sub_A  13580 non-null  int32  \n",
      " 16  Quartile_Sub_B  13580 non-null  int32  \n",
      " 17  Quartile_Sub_C  13580 non-null  int32  \n",
      " 18  Quartile_Sub_D  13580 non-null  int32  \n",
      " 19  Quartile_A      13580 non-null  int32  \n",
      " 20  Quartile_B      13580 non-null  int32  \n",
      " 21  Quartile_C      13580 non-null  int32  \n",
      " 22  Quartile_D      13580 non-null  int32  \n",
      " 23  Year            13580 non-null  int32  \n",
      " 24  h               13580 non-null  int32  \n",
      " 25  t               13580 non-null  int32  \n",
      " 26  u               13580 non-null  int32  \n",
      "dtypes: float64(12), int32(12), int64(1), object(2)\n",
      "memory usage: 2.2+ MB\n"
     ]
    }
   ],
   "source": [
    "df.info()"
   ]
  },
  {
   "cell_type": "code",
   "execution_count": 47,
   "id": "ea8a2874-7339-409a-a2b5-974b64cfdd8d",
   "metadata": {},
   "outputs": [
    {
     "data": {
      "text/plain": [
       "Rooms                0\n",
       "Price                0\n",
       "Distance             0\n",
       "Postcode             0\n",
       "Bedroom2             0\n",
       "Bathroom             0\n",
       "Car                 62\n",
       "Landsize             0\n",
       "BuildingArea      6450\n",
       "YearBuilt         5375\n",
       "CouncilArea       1369\n",
       "Lattitude            0\n",
       "Longtitude           0\n",
       "Regionname           0\n",
       "Propertycount        0\n",
       "Quartile_Sub_A       0\n",
       "Quartile_Sub_B       0\n",
       "Quartile_Sub_C       0\n",
       "Quartile_Sub_D       0\n",
       "Quartile_A           0\n",
       "Quartile_B           0\n",
       "Quartile_C           0\n",
       "Quartile_D           0\n",
       "Year                 0\n",
       "h                    0\n",
       "t                    0\n",
       "u                    0\n",
       "dtype: int64"
      ]
     },
     "execution_count": 47,
     "metadata": {},
     "output_type": "execute_result"
    }
   ],
   "source": [
    "df.isna().sum()"
   ]
  },
  {
   "cell_type": "code",
   "execution_count": 48,
   "id": "8cf9d069-8efd-4981-a551-7a02a81383b2",
   "metadata": {},
   "outputs": [
    {
     "data": {
      "text/plain": [
       "Car\n",
       "2.0     5591\n",
       "1.0     5509\n",
       "0.0     1026\n",
       "3.0      748\n",
       "4.0      506\n",
       "5.0       63\n",
       "6.0       54\n",
       "8.0        9\n",
       "7.0        8\n",
       "10.0       3\n",
       "9.0        1\n",
       "Name: count, dtype: int64"
      ]
     },
     "execution_count": 48,
     "metadata": {},
     "output_type": "execute_result"
    }
   ],
   "source": [
    "df['Car'].value_counts()"
   ]
  },
  {
   "cell_type": "code",
   "execution_count": 49,
   "id": "24a4357e-fd4d-4b92-9578-f308dfa871fe",
   "metadata": {},
   "outputs": [
    {
     "data": {
      "text/plain": [
       "Car               1.000000\n",
       "Rooms             0.408483\n",
       "Bedroom2          0.405325\n",
       "Bathroom          0.322246\n",
       "Distance          0.262994\n",
       "h                 0.252442\n",
       "Price             0.238979\n",
       "YearBuilt         0.104515\n",
       "BuildingArea      0.096101\n",
       "Year              0.082920\n",
       "Quartile_Sub_B    0.071423\n",
       "Quartile_B        0.067428\n",
       "Quartile_Sub_A    0.063552\n",
       "Longtitude        0.063395\n",
       "Postcode          0.050289\n",
       "Quartile_Sub_D    0.027891\n",
       "Landsize          0.026770\n",
       "Quartile_D        0.007211\n",
       "Lattitude        -0.001963\n",
       "t                -0.016942\n",
       "Quartile_A       -0.020974\n",
       "Propertycount    -0.024295\n",
       "Quartile_C       -0.047015\n",
       "Quartile_Sub_C   -0.128853\n",
       "u                -0.268123\n",
       "Name: Car, dtype: float64"
      ]
     },
     "execution_count": 49,
     "metadata": {},
     "output_type": "execute_result"
    }
   ],
   "source": [
    "df.corr(numeric_only=True)['Car'].sort_values(ascending= False)"
   ]
  },
  {
   "cell_type": "code",
   "execution_count": 50,
   "id": "8727736e-c288-43b8-98b1-15d98e0443b0",
   "metadata": {},
   "outputs": [],
   "source": [
    "grouped_by_room = df.groupby('Rooms')['Car'].mean()"
   ]
  },
  {
   "cell_type": "code",
   "execution_count": 51,
   "id": "009a0732-440b-4bdc-b6ac-df389e4e36cd",
   "metadata": {},
   "outputs": [],
   "source": [
    "def fill_car(room, car):\n",
    "    if np.isnan(car):\n",
    "        return grouped_by_room[room]\n",
    "    else:\n",
    "        return car"
   ]
  },
  {
   "cell_type": "code",
   "execution_count": 52,
   "id": "fbe4d4f0-e79a-4451-a789-a457c67a4f9b",
   "metadata": {},
   "outputs": [],
   "source": [
    "df['Car'] = df.apply(lambda t: fill_car(t['Rooms'], t['Car']), axis =1)"
   ]
  },
  {
   "cell_type": "code",
   "execution_count": 53,
   "id": "e2f96fd9-38b3-4496-88c0-81bc05fd091e",
   "metadata": {},
   "outputs": [
    {
     "data": {
      "text/plain": [
       "BuildingArea      1.000000\n",
       "Landsize          0.500485\n",
       "Rooms             0.124127\n",
       "Bedroom2          0.122319\n",
       "Bathroom          0.111933\n",
       "Distance          0.099481\n",
       "Car               0.096170\n",
       "Price             0.090981\n",
       "h                 0.067344\n",
       "Postcode          0.055475\n",
       "Quartile_Sub_D    0.052593\n",
       "Lattitude         0.043420\n",
       "Quartile_B        0.023638\n",
       "YearBuilt         0.019665\n",
       "Year              0.014080\n",
       "Quartile_D        0.009778\n",
       "Quartile_Sub_A   -0.007018\n",
       "t                -0.007190\n",
       "Quartile_A       -0.011966\n",
       "Quartile_Sub_B   -0.017277\n",
       "Quartile_C       -0.021408\n",
       "Longtitude       -0.023810\n",
       "Propertycount    -0.028840\n",
       "Quartile_Sub_C   -0.033123\n",
       "u                -0.070368\n",
       "Name: BuildingArea, dtype: float64"
      ]
     },
     "execution_count": 53,
     "metadata": {},
     "output_type": "execute_result"
    }
   ],
   "source": [
    "df.corr(numeric_only=True)['BuildingArea'].sort_values(ascending= False)"
   ]
  },
  {
   "cell_type": "code",
   "execution_count": 54,
   "id": "521ed8a3-0bc9-4873-8fd4-4fc5ef3dd97a",
   "metadata": {},
   "outputs": [],
   "source": [
    "corr = df.corr(numeric_only=True)"
   ]
  },
  {
   "cell_type": "code",
   "execution_count": 55,
   "id": "35862aba-8bf4-4a2e-b447-7baf875f1fd9",
   "metadata": {},
   "outputs": [
    {
     "data": {
      "text/plain": [
       "count     13580.000000\n",
       "mean        558.416127\n",
       "std        3990.669241\n",
       "min           0.000000\n",
       "25%         177.000000\n",
       "50%         440.000000\n",
       "75%         651.000000\n",
       "max      433014.000000\n",
       "Name: Landsize, dtype: float64"
      ]
     },
     "execution_count": 55,
     "metadata": {},
     "output_type": "execute_result"
    }
   ],
   "source": [
    "df['Landsize'].describe()"
   ]
  },
  {
   "cell_type": "code",
   "execution_count": 56,
   "id": "b7402239-d5ff-4ee2-b0e0-d2421506240a",
   "metadata": {},
   "outputs": [
    {
     "data": {
      "text/plain": [
       "11020    433014.0\n",
       "10504     76000.0\n",
       "687       75100.0\n",
       "13245     44500.0\n",
       "5194      41400.0\n",
       "11371     40468.0\n",
       "10045     38490.0\n",
       "3942      37000.0\n",
       "9223      37000.0\n",
       "8241      21715.0\n",
       "Name: Landsize, dtype: float64"
      ]
     },
     "execution_count": 56,
     "metadata": {},
     "output_type": "execute_result"
    }
   ],
   "source": [
    "df['Landsize'].sort_values(ascending= False)[:10]"
   ]
  },
  {
   "cell_type": "code",
   "execution_count": 62,
   "id": "d908be99-c8a6-4dc5-a723-78055585a5a6",
   "metadata": {},
   "outputs": [],
   "source": [
    "bins = [0, 100, 200, 300, 400, 500, 600, 700, 800, 900, 1000, 5000, 10000, 40000]\n",
    "labels = range(len(bins) - 1)\n",
    "arr = []\n"
   ]
  },
  {
   "cell_type": "code",
   "execution_count": 72,
   "id": "d72d01ad-809b-4d20-8cc6-8639c6dc3ef3",
   "metadata": {},
   "outputs": [
    {
     "data": {
      "text/html": [
       "<div>\n",
       "<style scoped>\n",
       "    .dataframe tbody tr th:only-of-type {\n",
       "        vertical-align: middle;\n",
       "    }\n",
       "\n",
       "    .dataframe tbody tr th {\n",
       "        vertical-align: top;\n",
       "    }\n",
       "\n",
       "    .dataframe thead th {\n",
       "        text-align: right;\n",
       "    }\n",
       "</style>\n",
       "<table border=\"1\" class=\"dataframe\">\n",
       "  <thead>\n",
       "    <tr style=\"text-align: right;\">\n",
       "      <th></th>\n",
       "      <th>Rooms</th>\n",
       "      <th>Price</th>\n",
       "      <th>Distance</th>\n",
       "      <th>Postcode</th>\n",
       "      <th>Bedroom2</th>\n",
       "      <th>Bathroom</th>\n",
       "      <th>Car</th>\n",
       "      <th>Landsize</th>\n",
       "      <th>BuildingArea</th>\n",
       "      <th>YearBuilt</th>\n",
       "      <th>...</th>\n",
       "      <th>Quartile_Sub_C</th>\n",
       "      <th>Quartile_Sub_D</th>\n",
       "      <th>Quartile_A</th>\n",
       "      <th>Quartile_B</th>\n",
       "      <th>Quartile_C</th>\n",
       "      <th>Quartile_D</th>\n",
       "      <th>Year</th>\n",
       "      <th>h</th>\n",
       "      <th>t</th>\n",
       "      <th>u</th>\n",
       "    </tr>\n",
       "  </thead>\n",
       "  <tbody>\n",
       "    <tr>\n",
       "      <th>3</th>\n",
       "      <td>3</td>\n",
       "      <td>850000.0</td>\n",
       "      <td>2.5</td>\n",
       "      <td>3067.0</td>\n",
       "      <td>3.0</td>\n",
       "      <td>2.0</td>\n",
       "      <td>1.0</td>\n",
       "      <td>94.0</td>\n",
       "      <td>NaN</td>\n",
       "      <td>NaN</td>\n",
       "      <td>...</td>\n",
       "      <td>1</td>\n",
       "      <td>0</td>\n",
       "      <td>0</td>\n",
       "      <td>0</td>\n",
       "      <td>1</td>\n",
       "      <td>0</td>\n",
       "      <td>2017</td>\n",
       "      <td>1</td>\n",
       "      <td>0</td>\n",
       "      <td>0</td>\n",
       "    </tr>\n",
       "    <tr>\n",
       "      <th>8</th>\n",
       "      <td>1</td>\n",
       "      <td>300000.0</td>\n",
       "      <td>2.5</td>\n",
       "      <td>3067.0</td>\n",
       "      <td>1.0</td>\n",
       "      <td>1.0</td>\n",
       "      <td>1.0</td>\n",
       "      <td>0.0</td>\n",
       "      <td>NaN</td>\n",
       "      <td>NaN</td>\n",
       "      <td>...</td>\n",
       "      <td>1</td>\n",
       "      <td>0</td>\n",
       "      <td>0</td>\n",
       "      <td>0</td>\n",
       "      <td>1</td>\n",
       "      <td>0</td>\n",
       "      <td>2016</td>\n",
       "      <td>0</td>\n",
       "      <td>0</td>\n",
       "      <td>1</td>\n",
       "    </tr>\n",
       "    <tr>\n",
       "      <th>10</th>\n",
       "      <td>2</td>\n",
       "      <td>700000.0</td>\n",
       "      <td>2.5</td>\n",
       "      <td>3067.0</td>\n",
       "      <td>2.0</td>\n",
       "      <td>2.0</td>\n",
       "      <td>1.0</td>\n",
       "      <td>0.0</td>\n",
       "      <td>NaN</td>\n",
       "      <td>NaN</td>\n",
       "      <td>...</td>\n",
       "      <td>1</td>\n",
       "      <td>0</td>\n",
       "      <td>0</td>\n",
       "      <td>0</td>\n",
       "      <td>0</td>\n",
       "      <td>1</td>\n",
       "      <td>2016</td>\n",
       "      <td>0</td>\n",
       "      <td>0</td>\n",
       "      <td>1</td>\n",
       "    </tr>\n",
       "    <tr>\n",
       "      <th>12</th>\n",
       "      <td>2</td>\n",
       "      <td>750000.0</td>\n",
       "      <td>2.5</td>\n",
       "      <td>3067.0</td>\n",
       "      <td>2.0</td>\n",
       "      <td>2.0</td>\n",
       "      <td>1.0</td>\n",
       "      <td>0.0</td>\n",
       "      <td>94.0</td>\n",
       "      <td>2009.0</td>\n",
       "      <td>...</td>\n",
       "      <td>1</td>\n",
       "      <td>0</td>\n",
       "      <td>0</td>\n",
       "      <td>0</td>\n",
       "      <td>1</td>\n",
       "      <td>0</td>\n",
       "      <td>2016</td>\n",
       "      <td>0</td>\n",
       "      <td>0</td>\n",
       "      <td>1</td>\n",
       "    </tr>\n",
       "    <tr>\n",
       "      <th>14</th>\n",
       "      <td>1</td>\n",
       "      <td>441000.0</td>\n",
       "      <td>2.5</td>\n",
       "      <td>3067.0</td>\n",
       "      <td>1.0</td>\n",
       "      <td>1.0</td>\n",
       "      <td>1.0</td>\n",
       "      <td>0.0</td>\n",
       "      <td>NaN</td>\n",
       "      <td>NaN</td>\n",
       "      <td>...</td>\n",
       "      <td>1</td>\n",
       "      <td>0</td>\n",
       "      <td>0</td>\n",
       "      <td>0</td>\n",
       "      <td>0</td>\n",
       "      <td>1</td>\n",
       "      <td>2016</td>\n",
       "      <td>0</td>\n",
       "      <td>0</td>\n",
       "      <td>1</td>\n",
       "    </tr>\n",
       "    <tr>\n",
       "      <th>...</th>\n",
       "      <td>...</td>\n",
       "      <td>...</td>\n",
       "      <td>...</td>\n",
       "      <td>...</td>\n",
       "      <td>...</td>\n",
       "      <td>...</td>\n",
       "      <td>...</td>\n",
       "      <td>...</td>\n",
       "      <td>...</td>\n",
       "      <td>...</td>\n",
       "      <td>...</td>\n",
       "      <td>...</td>\n",
       "      <td>...</td>\n",
       "      <td>...</td>\n",
       "      <td>...</td>\n",
       "      <td>...</td>\n",
       "      <td>...</td>\n",
       "      <td>...</td>\n",
       "      <td>...</td>\n",
       "      <td>...</td>\n",
       "      <td>...</td>\n",
       "    </tr>\n",
       "    <tr>\n",
       "      <th>12664</th>\n",
       "      <td>2</td>\n",
       "      <td>640000.0</td>\n",
       "      <td>5.2</td>\n",
       "      <td>3056.0</td>\n",
       "      <td>2.0</td>\n",
       "      <td>1.0</td>\n",
       "      <td>1.0</td>\n",
       "      <td>82.0</td>\n",
       "      <td>2.0</td>\n",
       "      <td>NaN</td>\n",
       "      <td>...</td>\n",
       "      <td>1</td>\n",
       "      <td>0</td>\n",
       "      <td>0</td>\n",
       "      <td>1</td>\n",
       "      <td>0</td>\n",
       "      <td>0</td>\n",
       "      <td>2017</td>\n",
       "      <td>0</td>\n",
       "      <td>1</td>\n",
       "      <td>0</td>\n",
       "    </tr>\n",
       "    <tr>\n",
       "      <th>12829</th>\n",
       "      <td>3</td>\n",
       "      <td>1500000.0</td>\n",
       "      <td>2.4</td>\n",
       "      <td>3121.0</td>\n",
       "      <td>3.0</td>\n",
       "      <td>2.0</td>\n",
       "      <td>2.0</td>\n",
       "      <td>72.0</td>\n",
       "      <td>145.0</td>\n",
       "      <td>2011.0</td>\n",
       "      <td>...</td>\n",
       "      <td>1</td>\n",
       "      <td>0</td>\n",
       "      <td>0</td>\n",
       "      <td>0</td>\n",
       "      <td>0</td>\n",
       "      <td>1</td>\n",
       "      <td>2017</td>\n",
       "      <td>0</td>\n",
       "      <td>1</td>\n",
       "      <td>0</td>\n",
       "    </tr>\n",
       "    <tr>\n",
       "      <th>12843</th>\n",
       "      <td>1</td>\n",
       "      <td>855000.0</td>\n",
       "      <td>1.9</td>\n",
       "      <td>3205.0</td>\n",
       "      <td>1.0</td>\n",
       "      <td>1.0</td>\n",
       "      <td>0.0</td>\n",
       "      <td>67.0</td>\n",
       "      <td>72.0</td>\n",
       "      <td>1900.0</td>\n",
       "      <td>...</td>\n",
       "      <td>0</td>\n",
       "      <td>1</td>\n",
       "      <td>0</td>\n",
       "      <td>0</td>\n",
       "      <td>0</td>\n",
       "      <td>1</td>\n",
       "      <td>2017</td>\n",
       "      <td>1</td>\n",
       "      <td>0</td>\n",
       "      <td>0</td>\n",
       "    </tr>\n",
       "    <tr>\n",
       "      <th>13118</th>\n",
       "      <td>2</td>\n",
       "      <td>653000.0</td>\n",
       "      <td>10.9</td>\n",
       "      <td>3128.0</td>\n",
       "      <td>2.0</td>\n",
       "      <td>1.0</td>\n",
       "      <td>1.0</td>\n",
       "      <td>84.0</td>\n",
       "      <td>77.0</td>\n",
       "      <td>1970.0</td>\n",
       "      <td>...</td>\n",
       "      <td>0</td>\n",
       "      <td>1</td>\n",
       "      <td>0</td>\n",
       "      <td>0</td>\n",
       "      <td>1</td>\n",
       "      <td>0</td>\n",
       "      <td>2017</td>\n",
       "      <td>0</td>\n",
       "      <td>0</td>\n",
       "      <td>1</td>\n",
       "    </tr>\n",
       "    <tr>\n",
       "      <th>13267</th>\n",
       "      <td>3</td>\n",
       "      <td>1463000.0</td>\n",
       "      <td>4.6</td>\n",
       "      <td>3181.0</td>\n",
       "      <td>3.0</td>\n",
       "      <td>2.0</td>\n",
       "      <td>2.0</td>\n",
       "      <td>15.0</td>\n",
       "      <td>147.0</td>\n",
       "      <td>1998.0</td>\n",
       "      <td>...</td>\n",
       "      <td>1</td>\n",
       "      <td>0</td>\n",
       "      <td>0</td>\n",
       "      <td>0</td>\n",
       "      <td>0</td>\n",
       "      <td>1</td>\n",
       "      <td>2017</td>\n",
       "      <td>0</td>\n",
       "      <td>1</td>\n",
       "      <td>0</td>\n",
       "    </tr>\n",
       "  </tbody>\n",
       "</table>\n",
       "<p>2248 rows × 27 columns</p>\n",
       "</div>"
      ],
      "text/plain": [
       "       Rooms      Price  Distance  Postcode  Bedroom2  Bathroom  Car  \\\n",
       "3          3   850000.0       2.5    3067.0       3.0       2.0  1.0   \n",
       "8          1   300000.0       2.5    3067.0       1.0       1.0  1.0   \n",
       "10         2   700000.0       2.5    3067.0       2.0       2.0  1.0   \n",
       "12         2   750000.0       2.5    3067.0       2.0       2.0  1.0   \n",
       "14         1   441000.0       2.5    3067.0       1.0       1.0  1.0   \n",
       "...      ...        ...       ...       ...       ...       ...  ...   \n",
       "12664      2   640000.0       5.2    3056.0       2.0       1.0  1.0   \n",
       "12829      3  1500000.0       2.4    3121.0       3.0       2.0  2.0   \n",
       "12843      1   855000.0       1.9    3205.0       1.0       1.0  0.0   \n",
       "13118      2   653000.0      10.9    3128.0       2.0       1.0  1.0   \n",
       "13267      3  1463000.0       4.6    3181.0       3.0       2.0  2.0   \n",
       "\n",
       "       Landsize  BuildingArea  YearBuilt  ... Quartile_Sub_C  Quartile_Sub_D  \\\n",
       "3          94.0           NaN        NaN  ...              1               0   \n",
       "8           0.0           NaN        NaN  ...              1               0   \n",
       "10          0.0           NaN        NaN  ...              1               0   \n",
       "12          0.0          94.0     2009.0  ...              1               0   \n",
       "14          0.0           NaN        NaN  ...              1               0   \n",
       "...         ...           ...        ...  ...            ...             ...   \n",
       "12664      82.0           2.0        NaN  ...              1               0   \n",
       "12829      72.0         145.0     2011.0  ...              1               0   \n",
       "12843      67.0          72.0     1900.0  ...              0               1   \n",
       "13118      84.0          77.0     1970.0  ...              0               1   \n",
       "13267      15.0         147.0     1998.0  ...              1               0   \n",
       "\n",
       "       Quartile_A Quartile_B  Quartile_C  Quartile_D  Year  h  t  u  \n",
       "3               0          0           1           0  2017  1  0  0  \n",
       "8               0          0           1           0  2016  0  0  1  \n",
       "10              0          0           0           1  2016  0  0  1  \n",
       "12              0          0           1           0  2016  0  0  1  \n",
       "14              0          0           0           1  2016  0  0  1  \n",
       "...           ...        ...         ...         ...   ... .. .. ..  \n",
       "12664           0          1           0           0  2017  0  1  0  \n",
       "12829           0          0           0           1  2017  0  1  0  \n",
       "12843           0          0           0           1  2017  1  0  0  \n",
       "13118           0          0           1           0  2017  0  0  1  \n",
       "13267           0          0           0           1  2017  0  1  0  \n",
       "\n",
       "[2248 rows x 27 columns]"
      ]
     },
     "execution_count": 72,
     "metadata": {},
     "output_type": "execute_result"
    }
   ],
   "source": [
    "df[(df['Landsize'] <bins[i+1]) & (df['Landsize'] >= bins[i])  ]"
   ]
  },
  {
   "cell_type": "code",
   "execution_count": 73,
   "id": "0cdd13bf-3fa1-4c04-9699-d9e0d210b3c2",
   "metadata": {},
   "outputs": [],
   "source": [
    "for i in labels:\n",
    "    arr.append(df[(df['Landsize'] <bins[i+1]) & (df['Landsize'] >= bins[i])]['BuildingArea'].mean())"
   ]
  },
  {
   "cell_type": "code",
   "execution_count": 74,
   "id": "1a74baf9-705c-4142-a7d9-d3f144bc03f9",
   "metadata": {},
   "outputs": [
    {
     "data": {
      "text/plain": [
       "range(0, 13)"
      ]
     },
     "execution_count": 74,
     "metadata": {},
     "output_type": "execute_result"
    }
   ],
   "source": [
    "labels"
   ]
  },
  {
   "cell_type": "code",
   "execution_count": 76,
   "id": "4f3c5cbf-4a55-4c04-8bb0-e0721510a402",
   "metadata": {},
   "outputs": [],
   "source": [
    "arr.append(df[df['Landsize'] > 40000]['BuildingArea'].mean())"
   ]
  },
  {
   "cell_type": "code",
   "execution_count": 79,
   "id": "30fa9183-20ae-4684-b918-39f2f900a104",
   "metadata": {},
   "outputs": [],
   "source": [
    "def fill_building(land,building):\n",
    "    if np.isnan(building):\n",
    "        for i in labels:\n",
    "            if (land < bins[i+1]):\n",
    "                return arr[i]\n",
    "    else:\n",
    "        return building"
   ]
  },
  {
   "cell_type": "code",
   "execution_count": 80,
   "id": "bf863648-3680-487b-944e-01f70abb3ade",
   "metadata": {},
   "outputs": [],
   "source": [
    "df['BuildingArea'] = df.apply(lambda t: fill_building(t['Landsize'], t['BuildingArea']), axis =1)"
   ]
  },
  {
   "cell_type": "code",
   "execution_count": 84,
   "id": "4f958b14-c1ea-407b-8eb0-76175290c34b",
   "metadata": {},
   "outputs": [
    {
     "data": {
      "text/plain": [
       "YearBuilt\n",
       "1976.0    6.114545e+05\n",
       "1987.0    6.852500e+05\n",
       "1872.0    6.900000e+05\n",
       "1970.0    7.279436e+05\n",
       "1975.0    7.608938e+05\n",
       "              ...     \n",
       "1854.0    3.310000e+06\n",
       "1893.0    3.335000e+06\n",
       "1903.0    3.455000e+06\n",
       "1863.0    4.125000e+06\n",
       "1884.0    5.046000e+06\n",
       "Name: Price, Length: 144, dtype: float64"
      ]
     },
     "execution_count": 84,
     "metadata": {},
     "output_type": "execute_result"
    }
   ],
   "source": [
    "df.groupby('YearBuilt')['Price'].mean().sort_values()"
   ]
  },
  {
   "cell_type": "code",
   "execution_count": null,
   "id": "8a5a0bcb-b828-4abb-a028-80def1bcbe82",
   "metadata": {},
   "outputs": [],
   "source": [
    "df[]"
   ]
  },
  {
   "cell_type": "code",
   "execution_count": 85,
   "id": "c83ac7d7-ca99-4fae-8347-702089dfefea",
   "metadata": {},
   "outputs": [
    {
     "data": {
      "text/plain": [
       "YearBuilt         1.000000\n",
       "t                 0.294490\n",
       "Distance          0.246379\n",
       "u                 0.236252\n",
       "Quartile_Sub_A    0.162283\n",
       "Bathroom          0.152702\n",
       "Quartile_Sub_B    0.127069\n",
       "Year              0.106829\n",
       "Car               0.104642\n",
       "Quartile_A        0.096936\n",
       "Quartile_B        0.081828\n",
       "Lattitude         0.060445\n",
       "Landsize          0.036451\n",
       "Postcode          0.032863\n",
       "Quartile_C        0.029780\n",
       "BuildingArea      0.019665\n",
       "Propertycount     0.006361\n",
       "Longtitude       -0.003470\n",
       "Bedroom2         -0.053319\n",
       "Rooms            -0.065413\n",
       "Quartile_Sub_C   -0.078219\n",
       "Quartile_Sub_D   -0.127229\n",
       "Quartile_D       -0.128759\n",
       "Price            -0.323617\n",
       "h                -0.395572\n",
       "Name: YearBuilt, dtype: float64"
      ]
     },
     "execution_count": 85,
     "metadata": {},
     "output_type": "execute_result"
    }
   ],
   "source": [
    "corr['YearBuilt'].sort_values(ascending= False)"
   ]
  },
  {
   "cell_type": "code",
   "execution_count": 87,
   "id": "7a9b50b7-e434-4efa-a646-e69078e0bb92",
   "metadata": {},
   "outputs": [
    {
     "data": {
      "text/plain": [
       "Distance\n",
       "0.0     1987.800000\n",
       "0.7     2002.333333\n",
       "1.2     2000.714286\n",
       "1.3     1971.500000\n",
       "1.5     1970.000000\n",
       "           ...     \n",
       "45.2    2009.000000\n",
       "45.9    1966.600000\n",
       "47.3    2007.500000\n",
       "47.4    2011.000000\n",
       "48.1            NaN\n",
       "Name: YearBuilt, Length: 202, dtype: float64"
      ]
     },
     "execution_count": 87,
     "metadata": {},
     "output_type": "execute_result"
    }
   ],
   "source": [
    "df.groupby('Distance')['YearBuilt'].mean()"
   ]
  },
  {
   "cell_type": "code",
   "execution_count": 89,
   "id": "62c00cff-ec02-43e4-8dc1-91241bd998be",
   "metadata": {},
   "outputs": [],
   "source": [
    "grouped_by_dist= df.groupby('Distance')['YearBuilt'].mean().dropna()"
   ]
  },
  {
   "cell_type": "code",
   "execution_count": 90,
   "id": "92abfc36-34eb-4a0d-9d92-c7b8243cabe0",
   "metadata": {},
   "outputs": [],
   "source": [
    "def fill_yearBuilt(dist, year):\n",
    "    if np.isnan(year):\n",
    "        return grouped_by_dist(dist)\n",
    "    else:\n",
    "        return year"
   ]
  },
  {
   "cell_type": "code",
   "execution_count": 91,
   "id": "afe33985-81eb-4c08-ab15-4ea4b99af8a0",
   "metadata": {},
   "outputs": [],
   "source": [
    "df['YearBuilt'] = df.apply(lambda t: fill_building(t['Distance'], t['YearBuilt']), axis =1)"
   ]
  },
  {
   "cell_type": "code",
   "execution_count": 93,
   "id": "bde2f7b2-9d0b-45dd-8481-1e25b9ab82fa",
   "metadata": {},
   "outputs": [
    {
     "data": {
      "text/plain": [
       "CouncilArea\n",
       "Banyule              Axes(0.125,0.11;0.775x0.77)\n",
       "Bayside              Axes(0.125,0.11;0.775x0.77)\n",
       "Boroondara           Axes(0.125,0.11;0.775x0.77)\n",
       "Brimbank             Axes(0.125,0.11;0.775x0.77)\n",
       "Cardinia             Axes(0.125,0.11;0.775x0.77)\n",
       "Casey                Axes(0.125,0.11;0.775x0.77)\n",
       "Darebin              Axes(0.125,0.11;0.775x0.77)\n",
       "Frankston            Axes(0.125,0.11;0.775x0.77)\n",
       "Glen Eira            Axes(0.125,0.11;0.775x0.77)\n",
       "Greater Dandenong    Axes(0.125,0.11;0.775x0.77)\n",
       "Hobsons Bay          Axes(0.125,0.11;0.775x0.77)\n",
       "Hume                 Axes(0.125,0.11;0.775x0.77)\n",
       "Kingston             Axes(0.125,0.11;0.775x0.77)\n",
       "Knox                 Axes(0.125,0.11;0.775x0.77)\n",
       "Macedon Ranges       Axes(0.125,0.11;0.775x0.77)\n",
       "Manningham           Axes(0.125,0.11;0.775x0.77)\n",
       "Maribyrnong          Axes(0.125,0.11;0.775x0.77)\n",
       "Maroondah            Axes(0.125,0.11;0.775x0.77)\n",
       "Melbourne            Axes(0.125,0.11;0.775x0.77)\n",
       "Melton               Axes(0.125,0.11;0.775x0.77)\n",
       "Monash               Axes(0.125,0.11;0.775x0.77)\n",
       "Moonee Valley        Axes(0.125,0.11;0.775x0.77)\n",
       "Moorabool            Axes(0.125,0.11;0.775x0.77)\n",
       "Moreland             Axes(0.125,0.11;0.775x0.77)\n",
       "Nillumbik            Axes(0.125,0.11;0.775x0.77)\n",
       "Port Phillip         Axes(0.125,0.11;0.775x0.77)\n",
       "Stonnington          Axes(0.125,0.11;0.775x0.77)\n",
       "Unavailable          Axes(0.125,0.11;0.775x0.77)\n",
       "Whitehorse           Axes(0.125,0.11;0.775x0.77)\n",
       "Whittlesea           Axes(0.125,0.11;0.775x0.77)\n",
       "Wyndham              Axes(0.125,0.11;0.775x0.77)\n",
       "Yarra                Axes(0.125,0.11;0.775x0.77)\n",
       "Yarra Ranges         Axes(0.125,0.11;0.775x0.77)\n",
       "Name: Price, dtype: object"
      ]
     },
     "execution_count": 93,
     "metadata": {},
     "output_type": "execute_result"
    },
    {
     "data": {
      "image/png": "[encoded data removed]",
      "text/plain": [
       "<Figure size 640x480 with 1 Axes>"
      ]
     },
     "metadata": {},
     "output_type": "display_data"
    }
   ],
   "source": [
    "df.groupby('CouncilArea')['Price'].plot(kind='bar')"
   ]
  },
  {
   "cell_type": "markdown",
   "id": "b8249452-0d7c-4938-8b9f-ce2d9101d501",
   "metadata": {},
   "source": [
    "### Does not seem super relevant, we can drop CouncilArea"
   ]
  },
  {
   "cell_type": "code",
   "execution_count": 94,
   "id": "1bbc98d6-c9c6-49ab-ae29-4206eeb54701",
   "metadata": {},
   "outputs": [
    {
     "name": "stdout",
     "output_type": "stream",
     "text": [
      "<class 'pandas.core.frame.DataFrame'>\n",
      "RangeIndex: 13580 entries, 0 to 13579\n",
      "Data columns (total 27 columns):\n",
      " #   Column          Non-Null Count  Dtype  \n",
      "---  ------          --------------  -----  \n",
      " 0   Rooms           13580 non-null  int64  \n",
      " 1   Price           13580 non-null  float64\n",
      " 2   Distance        13580 non-null  float64\n",
      " 3   Postcode        13580 non-null  float64\n",
      " 4   Bedroom2        13580 non-null  float64\n",
      " 5   Bathroom        13580 non-null  float64\n",
      " 6   Car             13580 non-null  float64\n",
      " 7   Landsize        13580 non-null  float64\n",
      " 8   BuildingArea    13575 non-null  float64\n",
      " 9   YearBuilt       13580 non-null  float64\n",
      " 10  CouncilArea     12211 non-null  object \n",
      " 11  Lattitude       13580 non-null  float64\n",
      " 12  Longtitude      13580 non-null  float64\n",
      " 13  Regionname      13580 non-null  object \n",
      " 14  Propertycount   13580 non-null  float64\n",
      " 15  Quartile_Sub_A  13580 non-null  int32  \n",
      " 16  Quartile_Sub_B  13580 non-null  int32  \n",
      " 17  Quartile_Sub_C  13580 non-null  int32  \n",
      " 18  Quartile_Sub_D  13580 non-null  int32  \n",
      " 19  Quartile_A      13580 non-null  int32  \n",
      " 20  Quartile_B      13580 non-null  int32  \n",
      " 21  Quartile_C      13580 non-null  int32  \n",
      " 22  Quartile_D      13580 non-null  int32  \n",
      " 23  Year            13580 non-null  int32  \n",
      " 24  h               13580 non-null  int32  \n",
      " 25  t               13580 non-null  int32  \n",
      " 26  u               13580 non-null  int32  \n",
      "dtypes: float64(12), int32(12), int64(1), object(2)\n",
      "memory usage: 2.2+ MB\n"
     ]
    }
   ],
   "source": [
    "df.info()"
   ]
  },
  {
   "cell_type": "code",
   "execution_count": 96,
   "id": "df89cd9e-6b50-4fd5-a6b2-ddd4f842c74a",
   "metadata": {},
   "outputs": [],
   "source": [
    "df.drop('CouncilArea', axis=1, inplace= True)"
   ]
  },
  {
   "cell_type": "code",
   "execution_count": 98,
   "id": "bd922a09-5f63-404a-a7ed-ca7df1111385",
   "metadata": {},
   "outputs": [],
   "source": [
    "df.dropna(subset = ['BuildingArea'], inplace=True)"
   ]
  },
  {
   "cell_type": "code",
   "execution_count": 101,
   "id": "980f5b8b-4585-4dec-b23f-9e32ce70a46b",
   "metadata": {},
   "outputs": [],
   "source": [
    "region_dummed  = pd.get_dummies(df['Regionname']).astype(int)"
   ]
  },
  {
   "cell_type": "code",
   "execution_count": 103,
   "id": "45bbab87-8c33-4fb2-ad57-c42e6e1fc9b4",
   "metadata": {},
   "outputs": [],
   "source": [
    "df= pd.concat([df,region_dummed], axis=1)"
   ]
  },
  {
   "cell_type": "code",
   "execution_count": 104,
   "id": "0bf3f6d1-dedd-4622-b924-51345d55ecc0",
   "metadata": {},
   "outputs": [],
   "source": [
    "df.drop('Regionname', axis=1, inplace=True)"
   ]
  },
  {
   "cell_type": "code",
   "execution_count": 105,
   "id": "46cbd12e-5ba8-46fe-92e1-cc24dcdd689e",
   "metadata": {},
   "outputs": [],
   "source": [
    "from sklearn.model_selection import train_test_split"
   ]
  },
  {
   "cell_type": "code",
   "execution_count": 106,
   "id": "05ebe97b-caea-4240-a162-c48d024b9ed9",
   "metadata": {},
   "outputs": [],
   "source": [
    " X_train, X_test, y_train, y_test = train_test_split(df.drop('Price', axis=1), df['Price'], test_size=0.33, random_state=42)"
   ]
  },
  {
   "cell_type": "code",
   "execution_count": 107,
   "id": "b47900f9-7866-4d4b-9c6a-3e4ecf63a92a",
   "metadata": {},
   "outputs": [],
   "source": [
    "from sklearn.preprocessing import MinMaxScaler\n",
    "scaler = MinMaxScaler()\n",
    "\n",
    "X_train = scaler.fit_transform(X_train)\n",
    "X_test = scaler.transform(X_test)"
   ]
  },
  {
   "cell_type": "code",
   "execution_count": 108,
   "id": "043983a2-f5a2-476b-b6e4-13e489e4cdd9",
   "metadata": {},
   "outputs": [],
   "source": [
    "from sklearn.linear_model import LinearRegression\n",
    "reg = LinearRegression()"
   ]
  },
  {
   "cell_type": "code",
   "execution_count": 109,
   "id": "01dbcd6d-fd43-4a4e-9069-a18950721dcc",
   "metadata": {},
   "outputs": [
    {
     "data": {
      "text/html": [
       "<style>#sk-container-id-1 {\n",
       "  /* Definition of color scheme common for light and dark mode */\n",
       "  --sklearn-color-text: black;\n",
       "  --sklearn-color-line: gray;\n",
       "  /* Definition of color scheme for unfitted estimators */\n",
       "  --sklearn-color-unfitted-level-0: #fff5e6;\n",
       "  --sklearn-color-unfitted-level-1: #f6e4d2;\n",
       "  --sklearn-color-unfitted-level-2: #ffe0b3;\n",
       "  --sklearn-color-unfitted-level-3: chocolate;\n",
       "  /* Definition of color scheme for fitted estimators */\n",
       "  --sklearn-color-fitted-level-0: #f0f8ff;\n",
       "  --sklearn-color-fitted-level-1: #d4ebff;\n",
       "  --sklearn-color-fitted-level-2: #b3dbfd;\n",
       "  --sklearn-color-fitted-level-3: cornflowerblue;\n",
       "\n",
       "  /* Specific color for light theme */\n",
       "  --sklearn-color-text-on-default-background: var(--sg-text-color, var(--theme-code-foreground, var(--jp-content-font-color1, black)));\n",
       "  --sklearn-color-background: var(--sg-background-color, var(--theme-background, var(--jp-layout-color0, white)));\n",
       "  --sklearn-color-border-box: var(--sg-text-color, var(--theme-code-foreground, var(--jp-content-font-color1, black)));\n",
       "  --sklearn-color-icon: #696969;\n",
       "\n",
       "  @media (prefers-color-scheme: dark) {\n",
       "    /* Redefinition of color scheme for dark theme */\n",
       "    --sklearn-color-text-on-default-background: var(--sg-text-color, var(--theme-code-foreground, var(--jp-content-font-color1, white)));\n",
       "    --sklearn-color-background: var(--sg-background-color, var(--theme-background, var(--jp-layout-color0, #111)));\n",
       "    --sklearn-color-border-box: var(--sg-text-color, var(--theme-code-foreground, var(--jp-content-font-color1, white)));\n",
       "    --sklearn-color-icon: #878787;\n",
       "  }\n",
       "}\n",
       "\n",
       "#sk-container-id-1 {\n",
       "  color: var(--sklearn-color-text);\n",
       "}\n",
       "\n",
       "#sk-container-id-1 pre {\n",
       "  padding: 0;\n",
       "}\n",
       "\n",
       "#sk-container-id-1 input.sk-hidden--visually {\n",
       "  border: 0;\n",
       "  clip: rect(1px 1px 1px 1px);\n",
       "  clip: rect(1px, 1px, 1px, 1px);\n",
       "  height: 1px;\n",
       "  margin: -1px;\n",
       "  overflow: hidden;\n",
       "  padding: 0;\n",
       "  position: absolute;\n",
       "  width: 1px;\n",
       "}\n",
       "\n",
       "#sk-container-id-1 div.sk-dashed-wrapped {\n",
       "  border: 1px dashed var(--sklearn-color-line);\n",
       "  margin: 0 0.4em 0.5em 0.4em;\n",
       "  box-sizing: border-box;\n",
       "  padding-bottom: 0.4em;\n",
       "  background-color: var(--sklearn-color-background);\n",
       "}\n",
       "\n",
       "#sk-container-id-1 div.sk-container {\n",
       "  /* jupyter's `normalize.less` sets `[hidden] { display: none; }`\n",
       "     but bootstrap.min.css set `[hidden] { display: none !important; }`\n",
       "     so we also need the `!important` here to be able to override the\n",
       "     default hidden behavior on the sphinx rendered scikit-learn.org.\n",
       "     See: https://github.com/scikit-learn/scikit-learn/issues/21755 */\n",
       "  display: inline-block !important;\n",
       "  position: relative;\n",
       "}\n",
       "\n",
       "#sk-container-id-1 div.sk-text-repr-fallback {\n",
       "  display: none;\n",
       "}\n",
       "\n",
       "div.sk-parallel-item,\n",
       "div.sk-serial,\n",
       "div.sk-item {\n",
       "  /* draw centered vertical line to link estimators */\n",
       "  background-image: linear-gradient(var(--sklearn-color-text-on-default-background), var(--sklearn-color-text-on-default-background));\n",
       "  background-size: 2px 100%;\n",
       "  background-repeat: no-repeat;\n",
       "  background-position: center center;\n",
       "}\n",
       "\n",
       "/* Parallel-specific style estimator block */\n",
       "\n",
       "#sk-container-id-1 div.sk-parallel-item::after {\n",
       "  content: \"\";\n",
       "  width: 100%;\n",
       "  border-bottom: 2px solid var(--sklearn-color-text-on-default-background);\n",
       "  flex-grow: 1;\n",
       "}\n",
       "\n",
       "#sk-container-id-1 div.sk-parallel {\n",
       "  display: flex;\n",
       "  align-items: stretch;\n",
       "  justify-content: center;\n",
       "  background-color: var(--sklearn-color-background);\n",
       "  position: relative;\n",
       "}\n",
       "\n",
       "#sk-container-id-1 div.sk-parallel-item {\n",
       "  display: flex;\n",
       "  flex-direction: column;\n",
       "}\n",
       "\n",
       "#sk-container-id-1 div.sk-parallel-item:first-child::after {\n",
       "  align-self: flex-end;\n",
       "  width: 50%;\n",
       "}\n",
       "\n",
       "#sk-container-id-1 div.sk-parallel-item:last-child::after {\n",
       "  align-self: flex-start;\n",
       "  width: 50%;\n",
       "}\n",
       "\n",
       "#sk-container-id-1 div.sk-parallel-item:only-child::after {\n",
       "  width: 0;\n",
       "}\n",
       "\n",
       "/* Serial-specific style estimator block */\n",
       "\n",
       "#sk-container-id-1 div.sk-serial {\n",
       "  display: flex;\n",
       "  flex-direction: column;\n",
       "  align-items: center;\n",
       "  background-color: var(--sklearn-color-background);\n",
       "  padding-right: 1em;\n",
       "  padding-left: 1em;\n",
       "}\n",
       "\n",
       "\n",
       "/* Toggleable style: style used for estimator/Pipeline/ColumnTransformer box that is\n",
       "clickable and can be expanded/collapsed.\n",
       "- Pipeline and ColumnTransformer use this feature and define the default style\n",
       "- Estimators will overwrite some part of the style using the `sk-estimator` class\n",
       "*/\n",
       "\n",
       "/* Pipeline and ColumnTransformer style (default) */\n",
       "\n",
       "#sk-container-id-1 div.sk-toggleable {\n",
       "  /* Default theme specific background. It is overwritten whether we have a\n",
       "  specific estimator or a Pipeline/ColumnTransformer */\n",
       "  background-color: var(--sklearn-color-background);\n",
       "}\n",
       "\n",
       "/* Toggleable label */\n",
       "#sk-container-id-1 label.sk-toggleable__label {\n",
       "  cursor: pointer;\n",
       "  display: block;\n",
       "  width: 100%;\n",
       "  margin-bottom: 0;\n",
       "  padding: 0.5em;\n",
       "  box-sizing: border-box;\n",
       "  text-align: center;\n",
       "}\n",
       "\n",
       "#sk-container-id-1 label.sk-toggleable__label-arrow:before {\n",
       "  /* Arrow on the left of the label */\n",
       "  content: \"▸\";\n",
       "  float: left;\n",
       "  margin-right: 0.25em;\n",
       "  color: var(--sklearn-color-icon);\n",
       "}\n",
       "\n",
       "#sk-container-id-1 label.sk-toggleable__label-arrow:hover:before {\n",
       "  color: var(--sklearn-color-text);\n",
       "}\n",
       "\n",
       "/* Toggleable content - dropdown */\n",
       "\n",
       "#sk-container-id-1 div.sk-toggleable__content {\n",
       "  max-height: 0;\n",
       "  max-width: 0;\n",
       "  overflow: hidden;\n",
       "  text-align: left;\n",
       "  /* unfitted */\n",
       "  background-color: var(--sklearn-color-unfitted-level-0);\n",
       "}\n",
       "\n",
       "#sk-container-id-1 div.sk-toggleable__content.fitted {\n",
       "  /* fitted */\n",
       "  background-color: var(--sklearn-color-fitted-level-0);\n",
       "}\n",
       "\n",
       "#sk-container-id-1 div.sk-toggleable__content pre {\n",
       "  margin: 0.2em;\n",
       "  border-radius: 0.25em;\n",
       "  color: var(--sklearn-color-text);\n",
       "  /* unfitted */\n",
       "  background-color: var(--sklearn-color-unfitted-level-0);\n",
       "}\n",
       "\n",
       "#sk-container-id-1 div.sk-toggleable__content.fitted pre {\n",
       "  /* unfitted */\n",
       "  background-color: var(--sklearn-color-fitted-level-0);\n",
       "}\n",
       "\n",
       "#sk-container-id-1 input.sk-toggleable__control:checked~div.sk-toggleable__content {\n",
       "  /* Expand drop-down */\n",
       "  max-height: 200px;\n",
       "  max-width: 100%;\n",
       "  overflow: auto;\n",
       "}\n",
       "\n",
       "#sk-container-id-1 input.sk-toggleable__control:checked~label.sk-toggleable__label-arrow:before {\n",
       "  content: \"▾\";\n",
       "}\n",
       "\n",
       "/* Pipeline/ColumnTransformer-specific style */\n",
       "\n",
       "#sk-container-id-1 div.sk-label input.sk-toggleable__control:checked~label.sk-toggleable__label {\n",
       "  color: var(--sklearn-color-text);\n",
       "  background-color: var(--sklearn-color-unfitted-level-2);\n",
       "}\n",
       "\n",
       "#sk-container-id-1 div.sk-label.fitted input.sk-toggleable__control:checked~label.sk-toggleable__label {\n",
       "  background-color: var(--sklearn-color-fitted-level-2);\n",
       "}\n",
       "\n",
       "/* Estimator-specific style */\n",
       "\n",
       "/* Colorize estimator box */\n",
       "#sk-container-id-1 div.sk-estimator input.sk-toggleable__control:checked~label.sk-toggleable__label {\n",
       "  /* unfitted */\n",
       "  background-color: var(--sklearn-color-unfitted-level-2);\n",
       "}\n",
       "\n",
       "#sk-container-id-1 div.sk-estimator.fitted input.sk-toggleable__control:checked~label.sk-toggleable__label {\n",
       "  /* fitted */\n",
       "  background-color: var(--sklearn-color-fitted-level-2);\n",
       "}\n",
       "\n",
       "#sk-container-id-1 div.sk-label label.sk-toggleable__label,\n",
       "#sk-container-id-1 div.sk-label label {\n",
       "  /* The background is the default theme color */\n",
       "  color: var(--sklearn-color-text-on-default-background);\n",
       "}\n",
       "\n",
       "/* On hover, darken the color of the background */\n",
       "#sk-container-id-1 div.sk-label:hover label.sk-toggleable__label {\n",
       "  color: var(--sklearn-color-text);\n",
       "  background-color: var(--sklearn-color-unfitted-level-2);\n",
       "}\n",
       "\n",
       "/* Label box, darken color on hover, fitted */\n",
       "#sk-container-id-1 div.sk-label.fitted:hover label.sk-toggleable__label.fitted {\n",
       "  color: var(--sklearn-color-text);\n",
       "  background-color: var(--sklearn-color-fitted-level-2);\n",
       "}\n",
       "\n",
       "/* Estimator label */\n",
       "\n",
       "#sk-container-id-1 div.sk-label label {\n",
       "  font-family: monospace;\n",
       "  font-weight: bold;\n",
       "  display: inline-block;\n",
       "  line-height: 1.2em;\n",
       "}\n",
       "\n",
       "#sk-container-id-1 div.sk-label-container {\n",
       "  text-align: center;\n",
       "}\n",
       "\n",
       "/* Estimator-specific */\n",
       "#sk-container-id-1 div.sk-estimator {\n",
       "  font-family: monospace;\n",
       "  border: 1px dotted var(--sklearn-color-border-box);\n",
       "  border-radius: 0.25em;\n",
       "  box-sizing: border-box;\n",
       "  margin-bottom: 0.5em;\n",
       "  /* unfitted */\n",
       "  background-color: var(--sklearn-color-unfitted-level-0);\n",
       "}\n",
       "\n",
       "#sk-container-id-1 div.sk-estimator.fitted {\n",
       "  /* fitted */\n",
       "  background-color: var(--sklearn-color-fitted-level-0);\n",
       "}\n",
       "\n",
       "/* on hover */\n",
       "#sk-container-id-1 div.sk-estimator:hover {\n",
       "  /* unfitted */\n",
       "  background-color: var(--sklearn-color-unfitted-level-2);\n",
       "}\n",
       "\n",
       "#sk-container-id-1 div.sk-estimator.fitted:hover {\n",
       "  /* fitted */\n",
       "  background-color: var(--sklearn-color-fitted-level-2);\n",
       "}\n",
       "\n",
       "/* Specification for estimator info (e.g. \"i\" and \"?\") */\n",
       "\n",
       "/* Common style for \"i\" and \"?\" */\n",
       "\n",
       ".sk-estimator-doc-link,\n",
       "a:link.sk-estimator-doc-link,\n",
       "a:visited.sk-estimator-doc-link {\n",
       "  float: right;\n",
       "  font-size: smaller;\n",
       "  line-height: 1em;\n",
       "  font-family: monospace;\n",
       "  background-color: var(--sklearn-color-background);\n",
       "  border-radius: 1em;\n",
       "  height: 1em;\n",
       "  width: 1em;\n",
       "  text-decoration: none !important;\n",
       "  margin-left: 1ex;\n",
       "  /* unfitted */\n",
       "  border: var(--sklearn-color-unfitted-level-1) 1pt solid;\n",
       "  color: var(--sklearn-color-unfitted-level-1);\n",
       "}\n",
       "\n",
       ".sk-estimator-doc-link.fitted,\n",
       "a:link.sk-estimator-doc-link.fitted,\n",
       "a:visited.sk-estimator-doc-link.fitted {\n",
       "  /* fitted */\n",
       "  border: var(--sklearn-color-fitted-level-1) 1pt solid;\n",
       "  color: var(--sklearn-color-fitted-level-1);\n",
       "}\n",
       "\n",
       "/* On hover */\n",
       "div.sk-estimator:hover .sk-estimator-doc-link:hover,\n",
       ".sk-estimator-doc-link:hover,\n",
       "div.sk-label-container:hover .sk-estimator-doc-link:hover,\n",
       ".sk-estimator-doc-link:hover {\n",
       "  /* unfitted */\n",
       "  background-color: var(--sklearn-color-unfitted-level-3);\n",
       "  color: var(--sklearn-color-background);\n",
       "  text-decoration: none;\n",
       "}\n",
       "\n",
       "div.sk-estimator.fitted:hover .sk-estimator-doc-link.fitted:hover,\n",
       ".sk-estimator-doc-link.fitted:hover,\n",
       "div.sk-label-container:hover .sk-estimator-doc-link.fitted:hover,\n",
       ".sk-estimator-doc-link.fitted:hover {\n",
       "  /* fitted */\n",
       "  background-color: var(--sklearn-color-fitted-level-3);\n",
       "  color: var(--sklearn-color-background);\n",
       "  text-decoration: none;\n",
       "}\n",
       "\n",
       "/* Span, style for the box shown on hovering the info icon */\n",
       ".sk-estimator-doc-link span {\n",
       "  display: none;\n",
       "  z-index: 9999;\n",
       "  position: relative;\n",
       "  font-weight: normal;\n",
       "  right: .2ex;\n",
       "  padding: .5ex;\n",
       "  margin: .5ex;\n",
       "  width: min-content;\n",
       "  min-width: 20ex;\n",
       "  max-width: 50ex;\n",
       "  color: var(--sklearn-color-text);\n",
       "  box-shadow: 2pt 2pt 4pt #999;\n",
       "  /* unfitted */\n",
       "  background: var(--sklearn-color-unfitted-level-0);\n",
       "  border: .5pt solid var(--sklearn-color-unfitted-level-3);\n",
       "}\n",
       "\n",
       ".sk-estimator-doc-link.fitted span {\n",
       "  /* fitted */\n",
       "  background: var(--sklearn-color-fitted-level-0);\n",
       "  border: var(--sklearn-color-fitted-level-3);\n",
       "}\n",
       "\n",
       ".sk-estimator-doc-link:hover span {\n",
       "  display: block;\n",
       "}\n",
       "\n",
       "/* \"?\"-specific style due to the `<a>` HTML tag */\n",
       "\n",
       "#sk-container-id-1 a.estimator_doc_link {\n",
       "  float: right;\n",
       "  font-size: 1rem;\n",
       "  line-height: 1em;\n",
       "  font-family: monospace;\n",
       "  background-color: var(--sklearn-color-background);\n",
       "  border-radius: 1rem;\n",
       "  height: 1rem;\n",
       "  width: 1rem;\n",
       "  text-decoration: none;\n",
       "  /* unfitted */\n",
       "  color: var(--sklearn-color-unfitted-level-1);\n",
       "  border: var(--sklearn-color-unfitted-level-1) 1pt solid;\n",
       "}\n",
       "\n",
       "#sk-container-id-1 a.estimator_doc_link.fitted {\n",
       "  /* fitted */\n",
       "  border: var(--sklearn-color-fitted-level-1) 1pt solid;\n",
       "  color: var(--sklearn-color-fitted-level-1);\n",
       "}\n",
       "\n",
       "/* On hover */\n",
       "#sk-container-id-1 a.estimator_doc_link:hover {\n",
       "  /* unfitted */\n",
       "  background-color: var(--sklearn-color-unfitted-level-3);\n",
       "  color: var(--sklearn-color-background);\n",
       "  text-decoration: none;\n",
       "}\n",
       "\n",
       "#sk-container-id-1 a.estimator_doc_link.fitted:hover {\n",
       "  /* fitted */\n",
       "  background-color: var(--sklearn-color-fitted-level-3);\n",
       "}\n",
       "</style><div id=\"sk-container-id-1\" class=\"sk-top-container\"><div class=\"sk-text-repr-fallback\"><pre>LinearRegression()</pre><b>In a Jupyter environment, please rerun this cell to show the HTML representation or trust the notebook. <br />On GitHub, the HTML representation is unable to render, please try loading this page with nbviewer.org.</b></div><div class=\"sk-container\" hidden><div class=\"sk-item\"><div class=\"sk-estimator fitted sk-toggleable\"><input class=\"sk-toggleable__control sk-hidden--visually\" id=\"sk-estimator-id-1\" type=\"checkbox\" checked><label for=\"sk-estimator-id-1\" class=\"sk-toggleable__label fitted sk-toggleable__label-arrow fitted\">&nbsp;&nbsp;LinearRegression<a class=\"sk-estimator-doc-link fitted\" rel=\"noreferrer\" target=\"_blank\" href=\"https://scikit-learn.org/1.5/modules/generated/sklearn.linear_model.LinearRegression.html\">?<span>Documentation for LinearRegression</span></a><span class=\"sk-estimator-doc-link fitted\">i<span>Fitted</span></span></label><div class=\"sk-toggleable__content fitted\"><pre>LinearRegression()</pre></div> </div></div></div></div>"
      ],
      "text/plain": [
       "LinearRegression()"
      ]
     },
     "execution_count": 109,
     "metadata": {},
     "output_type": "execute_result"
    }
   ],
   "source": [
    "reg.fit(X_train, y_train)"
   ]
  },
  {
   "cell_type": "code",
   "execution_count": 110,
   "id": "5c3fc5dc-1811-4680-895d-c114633abff6",
   "metadata": {},
   "outputs": [],
   "source": [
    "predictions= reg.predict(X_test)"
   ]
  },
  {
   "cell_type": "code",
   "execution_count": 111,
   "id": "573bfada-37f1-4cf8-8e6c-8164f21447dc",
   "metadata": {},
   "outputs": [],
   "source": [
    "from sklearn.metrics import root_mean_squared_error\n",
    "rmse = root_mean_squared_error(y_test, predictions)"
   ]
  },
  {
   "cell_type": "code",
   "execution_count": 112,
   "id": "9b7f5c1b-6e33-48e9-8671-c4175cbc0060",
   "metadata": {},
   "outputs": [
    {
     "data": {
      "text/plain": [
       "385185.1776718262"
      ]
     },
     "execution_count": 112,
     "metadata": {},
     "output_type": "execute_result"
    }
   ],
   "source": [
    "rmse"
   ]
  },
  {
   "cell_type": "code",
   "execution_count": 113,
   "id": "8ad8ff7b-5c1f-4c8c-a036-697843d66c32",
   "metadata": {},
   "outputs": [
    {
     "data": {
      "text/plain": [
       "0.3581277171868324"
      ]
     },
     "execution_count": 113,
     "metadata": {},
     "output_type": "execute_result"
    }
   ],
   "source": [
    "rmse / df['Price'].mean()"
   ]
  },
  {
   "cell_type": "code",
   "execution_count": null,
   "id": "f291246a-80be-4bf5-be61-b2460b4c5119",
   "metadata": {},
   "outputs": [],
   "source": []
  }
 ],
 "metadata": {
  "kernelspec": {
   "display_name": "Python 3 (ipykernel)",
   "language": "python",
   "name": "python3"
  },
  "language_info": {
   "codemirror_mode": {
    "name": "ipython",
    "version": 3
   },
   "file_extension": ".py",
   "mimetype": "text/x-python",
   "name": "python",
   "nbconvert_exporter": "python",
   "pygments_lexer": "ipython3",
   "version": "3.12.7"
  }
 },
 "nbformat": 4,
 "nbformat_minor": 5
}
